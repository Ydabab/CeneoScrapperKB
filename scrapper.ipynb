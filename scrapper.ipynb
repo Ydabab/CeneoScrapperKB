{
 "cells": [
  {
   "attachments": {},
   "cell_type": "markdown",
   "metadata": {},
   "source": [
    "## Ceneo Scrapper"
   ]
  },
  {
   "attachments": {},
   "cell_type": "markdown",
   "metadata": {},
   "source": [
    "## Struktura pojedynczej opinii\n",
    "\n",
    "|Składowa|Selektor|Zmienna|\n",
    "|--------|--------|-------|\n",
    "|id opinii|[\"data-entry-id\"]|opinion_id|\n",
    "|autor|span.user-post__author-name|author|\n",
    "|rekomendacja|span.user-post__author-recomendation|recommendation|\n",
    "|gwiazdki|span.user-post__score-count|stars|\n",
    "|treść|div.user-post__text|content|\n",
    "|lista zalet|div.review-feature__title--positives ~ div.review-feature items|pros|\n",
    "|lista wad|div.review-feature__title--negatives ~ div.review-feature items|cons|\n",
    "|dla ilu przydatna|button.vote-yes > span|helpful|\n",
    "|dla ilu nieprzydatna|button.vote-no > span|unhelpful|\n",
    "|data wystawienia|span.user-post__published > time:nth-child(1)(\"datetime\")|publish date|\n",
    "|data zakupu|span.user-post__published > time:nth-child(2)(\"datetime\")|purchase date|"
   ]
  },
  {
   "attachments": {},
   "cell_type": "markdown",
   "metadata": {},
   "source": [
    "## Zainstalowanie bibliotek"
   ]
  },
  {
   "cell_type": "code",
   "execution_count": 18,
   "metadata": {},
   "outputs": [],
   "source": [
    "import os\n",
    "import json\n",
    "import requests\n",
    "from bs4 import BeautifulSoup"
   ]
  },
  {
   "attachments": {},
   "cell_type": "markdown",
   "metadata": {},
   "source": [
    "## Wysłanie zapytania do serweru"
   ]
  },
  {
   "cell_type": "code",
   "execution_count": null,
   "metadata": {},
   "outputs": [],
   "source": [
    "product_id = '138331381'\n",
    "url = f\"https://ceneo.pl/{product_id}#tab=rewievs\"\n",
    "response = requests.get(url)"
   ]
  },
  {
   "attachments": {},
   "cell_type": "markdown",
   "metadata": {},
   "source": [
    "## Pobranie opinii z kodu HTML strony"
   ]
  },
  {
   "cell_type": "code",
   "execution_count": 13,
   "metadata": {},
   "outputs": [],
   "source": [
    "page_dom = BeautifulSoup(response.text, 'html.parser')\n",
    "opinions = page_dom.select(\"div.js_product-review\")"
   ]
  },
  {
   "cell_type": "code",
   "execution_count": 14,
   "metadata": {},
   "outputs": [],
   "source": [
    "all_opinions = []\n",
    "for opinion in opinions:\n",
    "    single_opinion = {\n",
    "        \"opinion_id\": opinion[\"data-entry-id\"],\n",
    "        \"author\" : opinion.select_one(\"span.user-post__author-name\").text.strip(),\n",
    "        \"recommendation\" : opinion.select_one(\"span.user-post__author-recomendation\").text.strip(),\n",
    "        \"stars\" : opinion.select_one(\"span.user-post__score-count\").text.strip(),\n",
    "        \"contents\" : opinion.select_one(\"div.user-post__text\").text.strip(),\n",
    "        \"pros\" : [p.text.strip()  for p in opinion.select(\"div.review-feature__title--positives ~ div.review-feature__item\")],\n",
    "        \"cons\" : [p.text.strip() for c in opinion.select(\"div.review-feature__title--negatives ~ div.review-feature__item\")],\n",
    "        \"helpful\" : opinion.select_one(\"button.vote-yes > span\").text.strip(),\n",
    "        \"unhelpful\" : opinion.select_one(\"button.vote-no > span\").text.strip(),\n",
    "        \"publish_date\" : opinion.select_one(\"span.user-post__published > time:nth-child(1)\")[\"datetime\"],\n",
    "        \"purchase_date\" : opinion.select_one(\"span.user-post__published > time:nth-child(2)\")[\"datetime\"]\n",
    "    }\n",
    "    all_opinions.append(single_opinion)\n"
   ]
  },
  {
   "cell_type": "code",
   "execution_count": 19,
   "metadata": {},
   "outputs": [],
   "source": [
    "if not os.path.exists(\"opinions\"):\n",
    "    os.makedirs(\"opinions\")\n",
    "with open(f\"opinions/{product_id}.json\", \"w\", encoding=\"UTF-8\") as jf: #jf = json_file\n",
    "    json.dump(all_opinions, jf, indent=4, ensure_ascii=False)"
   ]
  },
  {
   "cell_type": "code",
   "execution_count": 20,
   "metadata": {},
   "outputs": [],
   "source": [
    "next_page = page_dom.select_one(\"a.pagination__next\")[\"href\"].strip()\n",
    "print(next_page)"
   ]
  }
 ],
 "metadata": {
  "kernelspec": {
   "display_name": "Python 3",
   "language": "python",
   "name": "python3"
  },
  "language_info": {
   "codemirror_mode": {
    "name": "ipython",
    "version": 3
   },
   "file_extension": ".py",
   "mimetype": "text/x-python",
   "name": "python",
   "nbconvert_exporter": "python",
   "pygments_lexer": "ipython3",
   "version": "3.12.0"
  },
  "orig_nbformat": 4
 },
 "nbformat": 4,
 "nbformat_minor": 2
}
