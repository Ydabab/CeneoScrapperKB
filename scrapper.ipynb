{
 "cells": [
  {
   "attachments": {},
   "cell_type": "markdown",
   "metadata": {},
   "source": [
    "## Ceneo Scrapper"
   ]
  },
  {
   "attachments": {},
   "cell_type": "markdown",
   "metadata": {},
   "source": [
    "## Struktura pojedynczej opinii\n",
    "\n",
    "|Składowa|Selektor|Zmienna|\n",
    "|--------|--------|-------|\n",
    "|id opinii|[\"data-entry-id\"]|opinion_id|\n",
    "|autor|span.user-post__author-name|author|\n",
    "|rekomendacja|span.user-post__author-recomendation|recommendation|\n",
    "|gwiazdki|span.user-post__score-count|stars|\n",
    "|treść|div.user-post__text|content|\n",
    "|lista zalet|div.review-feature__title--positives ~ div.review-feature items|pros|\n",
    "|lista wad|div.review-feature__title--negatives ~ div.review-feature items|cons|\n",
    "|dla ilu przydatna|button.vote-yes > span|helpful|\n",
    "|dla ilu nieprzydatna|button.vote-no > span|unhelpful|\n",
    "|data wystawienia|span.user-post__published > time:nth-child(1)(\"datetime\")|publish date|\n",
    "|data zakupu|span.user-post__published > time:nth-child(2)(\"datetime\")|purchase date|"
   ]
  },
  {
   "attachments": {},
   "cell_type": "markdown",
   "metadata": {},
   "source": [
    "## Zainstalowanie bibliotek"
   ]
  },
  {
   "cell_type": "code",
   "execution_count": 4,
   "metadata": {},
   "outputs": [],
   "source": [
    "import os\n",
    "import json\n",
    "import requests\n",
    "from bs4 import BeautifulSoup"
   ]
  },
  {
   "cell_type": "markdown",
   "metadata": {},
   "source": [
    "## Funkcja do ekstrakcji"
   ]
  },
  {
   "cell_type": "code",
   "execution_count": 5,
   "metadata": {},
   "outputs": [],
   "source": [
    "def extract(ancestor, selector = None, attribute = None, return_list = False):\n",
    "    if selector:\n",
    "        if return_list:\n",
    "            if attribute:\n",
    "                return [tag[attribute].strip()  for tag in ancestor.select(selector)]\n",
    "            return [tag.text.strip()  for tag in ancestor.select(selector)]\n",
    "        if attribute:\n",
    "            try:\n",
    "                return ancestor.select_one(selector)[attribute].strip()\n",
    "            except TypeError:\n",
    "                return None\n",
    "        try:\n",
    "            return ancestor.select_one(selector).text.strip()\n",
    "        except AttributeError:\n",
    "            return None\n",
    "    if attribute:\n",
    "        return ancestor[attribute].strip()\n",
    "    return ancestor.text.strip()"
   ]
  },
  {
   "cell_type": "markdown",
   "metadata": {},
   "source": [
    "## Selektory składowych opinii"
   ]
  },
  {
   "cell_type": "code",
   "execution_count": 6,
   "metadata": {},
   "outputs": [],
   "source": [
    "selectors = {\n",
    "            \"opinion_id\": (None, \"data-entry-id\"),\n",
    "            \"author\" : (\"span.user-post__author-name\", ),\n",
    "            \"recommendation\" : (\"span.user-post__author-recomendation\",),\n",
    "            \"stars\" : (\"span.user-post__score-count\",),\n",
    "            \"contents\" : (\"div.user-post__text\", ),\n",
    "            \"pros\" : (\"div.review-feature__title--positives ~ div.review-feature__item\", None, True),\n",
    "            \"cons\" : (\"div.review-feature__title--negatives ~ div.review-feature__item\", None, True),\n",
    "            \"helpful\" : (\"button.vote-yes > span\", ),\n",
    "            \"unhelpful\" : (\"button.vote-no > span\", ),\n",
    "            \"publish_date\" : (\"span.user-post__published > time:nth-child(1)\", \"datetime\"),\n",
    "            \"purchase_date\" : (\"span.user-post__published > time:nth-child(2)\", \"datetime\")\n",
    "        }"
   ]
  },
  {
   "attachments": {},
   "cell_type": "markdown",
   "metadata": {},
   "source": [
    "## Adres URL pierwszej strony z opiniami o produkcie"
   ]
  },
  {
   "cell_type": "code",
   "execution_count": 7,
   "metadata": {},
   "outputs": [],
   "source": [
    "#product_id = '138331381'\n",
    "product_id = \"39562616\"\n",
    "url = f\"https://ceneo.pl/{product_id}#tab=rewievs\""
   ]
  },
  {
   "attachments": {},
   "cell_type": "markdown",
   "metadata": {},
   "source": [
    "## Pobranie opinii z kodu HTML strony"
   ]
  },
  {
   "cell_type": "code",
   "execution_count": 8,
   "metadata": {},
   "outputs": [
    {
     "ename": "KeyError",
     "evalue": "None",
     "output_type": "error",
     "traceback": [
      "\u001b[1;31m---------------------------------------------------------------------------\u001b[0m",
      "\u001b[1;31mKeyError\u001b[0m                                  Traceback (most recent call last)",
      "Cell \u001b[1;32mIn[8], line 8\u001b[0m\n\u001b[0;32m      5\u001b[0m opinions \u001b[38;5;241m=\u001b[39m page_dom\u001b[38;5;241m.\u001b[39mselect(\u001b[38;5;124m\"\u001b[39m\u001b[38;5;124mdiv.js_product-review\u001b[39m\u001b[38;5;124m\"\u001b[39m)\n\u001b[0;32m      6\u001b[0m \u001b[38;5;28;01mfor\u001b[39;00m opinion \u001b[38;5;129;01min\u001b[39;00m opinions:\n\u001b[0;32m      7\u001b[0m     single_opinion \u001b[38;5;241m=\u001b[39m {\n\u001b[1;32m----> 8\u001b[0m        key: \u001b[43mextract\u001b[49m\u001b[43m(\u001b[49m\u001b[43mopinion\u001b[49m\u001b[43m,\u001b[49m\u001b[43m \u001b[49m\u001b[38;5;241;43m*\u001b[39;49m\u001b[43mvalue\u001b[49m\u001b[43m)\u001b[49m\n\u001b[0;32m      9\u001b[0m             \u001b[38;5;28;01mfor\u001b[39;00m key, value \u001b[38;5;129;01min\u001b[39;00m selectors\u001b[38;5;241m.\u001b[39mitems()\n\u001b[0;32m     10\u001b[0m     }\n\u001b[0;32m     11\u001b[0m     all_opinions\u001b[38;5;241m.\u001b[39mappend(single_opinion)\n\u001b[0;32m     12\u001b[0m \u001b[38;5;28;01mtry\u001b[39;00m:\n",
      "Cell \u001b[1;32mIn[5], line 6\u001b[0m, in \u001b[0;36mextract\u001b[1;34m(ancestor, selector, attribute, return_list)\u001b[0m\n\u001b[0;32m      4\u001b[0m     \u001b[38;5;28;01mif\u001b[39;00m attribute:\n\u001b[0;32m      5\u001b[0m         \u001b[38;5;28;01mreturn\u001b[39;00m [tag[attribute]\u001b[38;5;241m.\u001b[39mstrip()  \u001b[38;5;28;01mfor\u001b[39;00m tag \u001b[38;5;129;01min\u001b[39;00m ancestor\u001b[38;5;241m.\u001b[39mselect(selector)]\n\u001b[1;32m----> 6\u001b[0m     \u001b[38;5;28;01mreturn\u001b[39;00m [\u001b[43mtag\u001b[49m\u001b[43m[\u001b[49m\u001b[43mattribute\u001b[49m\u001b[43m]\u001b[49m\u001b[38;5;241m.\u001b[39mstrip()  \u001b[38;5;28;01mfor\u001b[39;00m tag \u001b[38;5;129;01min\u001b[39;00m ancestor\u001b[38;5;241m.\u001b[39mselect(selector)]\n\u001b[0;32m      7\u001b[0m \u001b[38;5;28;01mif\u001b[39;00m attribute:\n\u001b[0;32m      8\u001b[0m     \u001b[38;5;28;01mtry\u001b[39;00m:\n",
      "File \u001b[1;32mc:\\Users\\kryst\\OneDrive\\Pulpit\\studia\\Semestr 2\\pp2\\CeneoScrapperKB\\.venv\\Lib\\site-packages\\bs4\\element.py:1573\u001b[0m, in \u001b[0;36mTag.__getitem__\u001b[1;34m(self, key)\u001b[0m\n\u001b[0;32m   1570\u001b[0m \u001b[38;5;28;01mdef\u001b[39;00m \u001b[38;5;21m__getitem__\u001b[39m(\u001b[38;5;28mself\u001b[39m, key):\n\u001b[0;32m   1571\u001b[0m \u001b[38;5;250m    \u001b[39m\u001b[38;5;124;03m\"\"\"tag[key] returns the value of the 'key' attribute for the Tag,\u001b[39;00m\n\u001b[0;32m   1572\u001b[0m \u001b[38;5;124;03m    and throws an exception if it's not there.\"\"\"\u001b[39;00m\n\u001b[1;32m-> 1573\u001b[0m     \u001b[38;5;28;01mreturn\u001b[39;00m \u001b[38;5;28;43mself\u001b[39;49m\u001b[38;5;241;43m.\u001b[39;49m\u001b[43mattrs\u001b[49m\u001b[43m[\u001b[49m\u001b[43mkey\u001b[49m\u001b[43m]\u001b[49m\n",
      "\u001b[1;31mKeyError\u001b[0m: None"
     ]
    }
   ],
   "source": [
    "all_opinions = []\n",
    "while(url):\n",
    "    response = requests.get(url)\n",
    "    page_dom = BeautifulSoup(response.text, 'html.parser')\n",
    "    opinions = page_dom.select(\"div.js_product-review\")\n",
    "    for opinion in opinions:\n",
    "        single_opinion = {\n",
    "           key: extract(opinion, *value)\n",
    "                for key, value in selectors.items()\n",
    "        }\n",
    "        all_opinions.append(single_opinion)\n",
    "    try:\n",
    "        url = \"https://ceneo.pl\" + page_dom.select_one(\"a.pagination__next\")[\"href\"].strip()\n",
    "    except TypeError: \n",
    "        url = False"
   ]
  },
  {
   "cell_type": "markdown",
   "metadata": {},
   "source": [
    "## Zapis opinii o produkcie do pliku JSON"
   ]
  },
  {
   "cell_type": "code",
   "execution_count": null,
   "metadata": {},
   "outputs": [],
   "source": [
    "if not os.path.exists(\"opinions\"):\n",
    "    os.makedirs(\"opinions\")\n",
    "with open(f\"opinions/{product_id}.json\", \"w\", encoding=\"UTF-8\") as jf: #jf = json_file\n",
    "    json.dump(all_opinions, jf, indent=4, ensure_ascii=False)"
   ]
  }
 ],
 "metadata": {
  "kernelspec": {
   "display_name": "Python 3",
   "language": "python",
   "name": "python3"
  },
  "language_info": {
   "codemirror_mode": {
    "name": "ipython",
    "version": 3
   },
   "file_extension": ".py",
   "mimetype": "text/x-python",
   "name": "python",
   "nbconvert_exporter": "python",
   "pygments_lexer": "ipython3",
   "version": "3.12.0"
  },
  "orig_nbformat": 4
 },
 "nbformat": 4,
 "nbformat_minor": 2
}
